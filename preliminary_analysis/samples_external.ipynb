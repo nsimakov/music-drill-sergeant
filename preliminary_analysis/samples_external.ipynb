{
 "cells": [
  {
   "cell_type": "markdown",
   "id": "11d8f224-bfc3-472b-a452-26eaa47a1d4d",
   "metadata": {},
   "source": [
    "# URBANSOUND8K DATASET\n",
    "\n",
    "<https://urbansounddataset.weebly.com/urbansound8k.html>\n",
    "\n",
    "```\n",
    "Citing\n",
    "@misc{fuentes_salamon2021soundata,\n",
    "      title={Soundata: A Python library for reproducible use of audio datasets}, \n",
    "      author={Magdalena Fuentes and Justin Salamon and Pablo Zinemanas and Martín Rocamora and \n",
    "      Genís Plaja and Irán R. Román and Marius Miron and Xavier Serra and Juan Pablo Bello},\n",
    "      year={2021},\n",
    "      eprint={2109.12690},\n",
    "      archivePrefix={arXiv},\n",
    "      primaryClass={cs.SD}\n",
    "}\n",
    "```\n"
   ]
  },
  {
   "cell_type": "code",
   "execution_count": 3,
   "id": "06d06a6d-01e8-488c-99d2-12991875fcc6",
   "metadata": {},
   "outputs": [
    {
     "name": "stdout",
     "output_type": "stream",
     "text": [
      "3.8.16 (default, Jun 12 2023, 21:00:42) [MSC v.1916 64 bit (AMD64)]\n"
     ]
    }
   ],
   "source": [
    "print(__import__('sys').version)"
   ]
  },
  {
   "cell_type": "markdown",
   "id": "357058fe-c56e-417e-9879-f6f8dab8b762",
   "metadata": {},
   "source": [
    "make a new enviromet for sounddata and install numpy 1.20.0 and python 3.8\n",
    "\n",
    "```bash\n",
    "conda activate sounddata\n",
    "python -m ipykernel install --user --name sounddata --display-name=\"Python 3.8 for sounddata\"\n",
    "pip install soundata\n",
    "```\n",
    "\n",
    "be carefull some shell magic is still your main python"
   ]
  },
  {
   "cell_type": "code",
   "execution_count": 5,
   "id": "e0fdbf9b-7de5-4864-85d5-103037a3148f",
   "metadata": {},
   "outputs": [
    {
     "name": "stdout",
     "output_type": "stream",
     "text": [
      "Python 3.10.11\n"
     ]
    }
   ],
   "source": [
    "!python --version"
   ]
  },
  {
   "cell_type": "code",
   "execution_count": 6,
   "id": "a663b843-43d3-4fa7-acc7-6420dd7b99ae",
   "metadata": {},
   "outputs": [
    {
     "name": "stderr",
     "output_type": "stream",
     "text": [
      "INFO: Downloading ['all'] to /tmp\\sound_datasets\\urbansound8k\n",
      "INFO: [all] downloading UrbanSound8K.tar.gz\n",
      "5.61GB [54:55, 1.83MB/s]                                                                                               \n",
      "100%|███████████████████████████████████████████████████████████████████████████████████| 1/1 [00:00<00:00, 143.23it/s]\n",
      "100%|█████████████████████████████████████████████████████████████████████████████| 8732/8732 [00:46<00:00, 187.98it/s]\n",
      "INFO: Success: the dataset is complete and all files are valid.\n",
      "INFO: --------------------\n"
     ]
    },
    {
     "data": {
      "text/plain": [
       "({'metadata': {}, 'clips': {}}, {'metadata': {}, 'clips': {}})"
      ]
     },
     "execution_count": 6,
     "metadata": {},
     "output_type": "execute_result"
    }
   ],
   "source": [
    "import soundata\n",
    "\n",
    "dataset = soundata.initialize('urbansound8k')\n",
    "dataset.download()  # download the dataset\n",
    "dataset.validate()  # validate that all the expected files are there"
   ]
  },
  {
   "cell_type": "code",
   "execution_count": null,
   "id": "5095307d-80ea-4369-8efa-92eaf89db467",
   "metadata": {},
   "outputs": [],
   "source": [
    "example_clip = dataset.choice_clip()  # choose a random example clip\n",
    "print(example_clip)  # see the available data"
   ]
  }
 ],
 "metadata": {
  "kernelspec": {
   "display_name": "Python 3.8 for sounddata",
   "language": "python",
   "name": "sounddata"
  },
  "language_info": {
   "codemirror_mode": {
    "name": "ipython",
    "version": 3
   },
   "file_extension": ".py",
   "mimetype": "text/x-python",
   "name": "python",
   "nbconvert_exporter": "python",
   "pygments_lexer": "ipython3",
   "version": "3.8.16"
  }
 },
 "nbformat": 4,
 "nbformat_minor": 5
}
